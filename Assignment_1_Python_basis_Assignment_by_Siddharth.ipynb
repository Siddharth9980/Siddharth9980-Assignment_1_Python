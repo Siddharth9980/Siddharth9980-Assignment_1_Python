{
  "nbformat": 4,
  "nbformat_minor": 0,
  "metadata": {
    "colab": {
      "provenance": [],
      "authorship_tag": "ABX9TyMnOBN47fdP12Y30zgt5Ps8",
      "include_colab_link": true
    },
    "kernelspec": {
      "name": "python3",
      "display_name": "Python 3"
    },
    "language_info": {
      "name": "python"
    }
  },
  "cells": [
    {
      "cell_type": "markdown",
      "metadata": {
        "id": "view-in-github",
        "colab_type": "text"
      },
      "source": [
        "<a href=\"https://colab.research.google.com/github/Siddharth9980/Siddharth9980-Assignment_1_Python/blob/main/Assignment_1_Python_basis_Assignment_by_Siddharth.ipynb\" target=\"_parent\"><img src=\"https://colab.research.google.com/assets/colab-badge.svg\" alt=\"Open In Colab\"/></a>"
      ]
    },
    {
      "cell_type": "markdown",
      "source": [
        "### 1-- Explain the key features of python that make it a popular choice of programme.\n",
        "Ans--Python is the programming language having a set of rules and symbols that define the focus of writing complete programme.\n",
        "Python has many key features, including:\n",
        "\n",
        "Easy to learn: Python has a simple syntax that makes it easy to learn and use.\n",
        "\n",
        "Open source: Python is free and open source software.\n",
        "\n",
        "High-level language: Python is a high-level language that's interpreted and compiled.\n",
        "\n",
        "Dynamic typing: Python is dynamically typed, which makes it a good choice for rapid application development.\n",
        "\n",
        "Supports multiple programming models: Python supports procedural, object-oriented, and functional programming.\n",
        "\n",
        "Large standard library: Python comes with a comprehensive standard library.\n",
        "\n",
        "Test-driven development: Python makes it easy to do test-driven development (TDD).\n",
        "\n",
        "Frameworks and libraries: Python has frameworks and libraries for almost every application domain.\n",
        "\n",
        "Portable: Python is a highly portable language.\n",
        "\n",
        "Platform independent: Python is platform independent.\n",
        "\n",
        "Scalable: Python is scalable.\n",
        "\n",
        "Easy to debug: Python is easy to debug.\n",
        "\n"
      ],
      "metadata": {
        "id": "Lo9mQg8rWOET"
      }
    },
    {
      "cell_type": "markdown",
      "source": [
        "Que-2= Describe the role of predefined keywords in python and provide example of how they are used in programme.\n",
        "Ans- Role of Predefined Keywords:\n",
        "In Python, predefined keywords are reserved words that have specific meanings within the language. They serve as building blocks for constructing Python programs and defining their structure, control flow, and data types. These keywords cannot be used as variable names or identifiers.\n",
        "Examples of Predefined Keywords and Their Usage:\n",
        "\n",
        "1. Control Flow:\n",
        "\n",
        "if, elif, else: These keywords are used to implement conditional statements, allowing the program to execute different code blocks based on specific conditions.\n"
      ],
      "metadata": {
        "id": "8ReVPjmzY8VR"
      }
    },
    {
      "cell_type": "code",
      "source": [
        "age = 25\n",
        "if age >= 18:\n",
        "    print(\"You are an adult.\")\n",
        "elif age >= 13:\n",
        "    print(\"You are a teenager.\")\n",
        "else:\n",
        "    print(\"You are a child.\")"
      ],
      "metadata": {
        "colab": {
          "base_uri": "https://localhost:8080/"
        },
        "id": "Yzw77XzNeYOU",
        "outputId": "34456c46-e06a-48e6-ab2f-bcdba4976941"
      },
      "execution_count": 1,
      "outputs": [
        {
          "output_type": "stream",
          "name": "stdout",
          "text": [
            "You are an adult.\n"
          ]
        }
      ]
    },
    {
      "cell_type": "markdown",
      "source": [
        "for: This keyword is used to iterate over a sequence of values\n",
        "\n",
        " (e.g., a list, tuple, or string), performing a specific action for each element."
      ],
      "metadata": {
        "id": "MtG3uOjufzMh"
      }
    },
    {
      "cell_type": "code",
      "source": [
        "Fruits = [\"apple\",\"banana\",\"orange\"]\n",
        "for fruit in Fruits:\n",
        "  print(fruit)\n"
      ],
      "metadata": {
        "colab": {
          "base_uri": "https://localhost:8080/"
        },
        "id": "OiQKZBH5f4w0",
        "outputId": "7f34d1c8-05fb-43c6-9db7-3774db58d047"
      },
      "execution_count": 2,
      "outputs": [
        {
          "output_type": "stream",
          "name": "stdout",
          "text": [
            "apple\n",
            "banana\n",
            "orange\n"
          ]
        }
      ]
    },
    {
      "cell_type": "markdown",
      "source": [
        "Que-3 Compare and contrast mutable and immutable in python.\n",
        "\n",
        "Ans-Mutability can be defined that can  be modified in memory location and immutability can be defined that can not be modified in memory location.\n",
        "like strings are immutable they can not be modified in memory location.\n",
        "Example:-\n",
        "Strings(Immutable in nature)\n"
      ],
      "metadata": {
        "id": "z89sgpfTb2ZX"
      }
    },
    {
      "cell_type": "code",
      "source": [
        "S1= \" This is python session \"\n",
        "print(S1)"
      ],
      "metadata": {
        "colab": {
          "base_uri": "https://localhost:8080/"
        },
        "id": "BDjhlO85htH_",
        "outputId": "6a05a5a5-a889-4af9-9989-10c8c875dca9"
      },
      "execution_count": 3,
      "outputs": [
        {
          "output_type": "stream",
          "name": "stdout",
          "text": [
            " This is python session \n"
          ]
        }
      ]
    },
    {
      "cell_type": "markdown",
      "source": [
        "###Slicing"
      ],
      "metadata": {
        "id": "sy494Cv4jyLj"
      }
    },
    {
      "cell_type": "code",
      "source": [
        "print(S1[2:9])"
      ],
      "metadata": {
        "colab": {
          "base_uri": "https://localhost:8080/"
        },
        "id": "JQXjFusVjECg",
        "outputId": "247f8089-7e98-4e8b-db11-3848cbdac399"
      },
      "execution_count": 4,
      "outputs": [
        {
          "output_type": "stream",
          "name": "stdout",
          "text": [
            "his is \n"
          ]
        }
      ]
    },
    {
      "cell_type": "markdown",
      "source": [
        "### Indexing"
      ],
      "metadata": {
        "id": "tlJsF7NFj6e8"
      }
    },
    {
      "cell_type": "code",
      "source": [
        "print(S1[4])"
      ],
      "metadata": {
        "colab": {
          "base_uri": "https://localhost:8080/"
        },
        "id": "G8n2TLEEjdGE",
        "outputId": "35e54436-8860-43ab-98b1-9cd093368f72"
      },
      "execution_count": 5,
      "outputs": [
        {
          "output_type": "stream",
          "name": "stdout",
          "text": [
            "s\n"
          ]
        }
      ]
    },
    {
      "cell_type": "code",
      "source": [
        "S1=(\"This is my first python class\")\n",
        "S2=  S1 + \"I am doing my first assignment\"\n",
        "print(S1)\n",
        "print(S2)"
      ],
      "metadata": {
        "colab": {
          "base_uri": "https://localhost:8080/"
        },
        "id": "3ZlqoXickqPn",
        "outputId": "e6e125c0-eeeb-4407-bd11-edfe2420bdac"
      },
      "execution_count": 6,
      "outputs": [
        {
          "output_type": "stream",
          "name": "stdout",
          "text": [
            "This is my first python class\n",
            "This is my first python classI am doing my first assignment\n"
          ]
        }
      ]
    },
    {
      "cell_type": "markdown",
      "source": [
        "## Example of mutability"
      ],
      "metadata": {
        "id": "elHm-pBSl6Vo"
      }
    },
    {
      "cell_type": "code",
      "source": [
        "list =[\"Apple\",\"banana\",\"kiwi\"]\n",
        "list.sort\n",
        "list.pop()\n",
        "list.append(\"guava\")\n",
        "list"
      ],
      "metadata": {
        "colab": {
          "base_uri": "https://localhost:8080/"
        },
        "id": "u1IHciI8loGt",
        "outputId": "530299fe-1acd-40ae-9ca0-27a87b8f3d30"
      },
      "execution_count": 7,
      "outputs": [
        {
          "output_type": "execute_result",
          "data": {
            "text/plain": [
              "['Apple', 'banana', 'guava']"
            ]
          },
          "metadata": {},
          "execution_count": 7
        }
      ]
    },
    {
      "cell_type": "code",
      "source": [
        "print(list)"
      ],
      "metadata": {
        "colab": {
          "base_uri": "https://localhost:8080/"
        },
        "id": "X_GGcaYdnA-A",
        "outputId": "ead22d9f-06b7-4fc9-f470-c601f1157792"
      },
      "execution_count": 8,
      "outputs": [
        {
          "output_type": "stream",
          "name": "stdout",
          "text": [
            "['Apple', 'banana', 'guava']\n"
          ]
        }
      ]
    },
    {
      "cell_type": "code",
      "source": [
        "print(type(list))"
      ],
      "metadata": {
        "colab": {
          "base_uri": "https://localhost:8080/"
        },
        "id": "xtdRxUZ9olsh",
        "outputId": "ac56353b-4a6b-4072-8bf0-6e667a41ef75"
      },
      "execution_count": 9,
      "outputs": [
        {
          "output_type": "stream",
          "name": "stdout",
          "text": [
            "<class 'list'>\n"
          ]
        }
      ]
    },
    {
      "cell_type": "code",
      "source": [
        "print(id(list))"
      ],
      "metadata": {
        "colab": {
          "base_uri": "https://localhost:8080/"
        },
        "id": "noQ2W31Botjb",
        "outputId": "a1b15baf-78a7-4889-c5c3-47daac82cce3"
      },
      "execution_count": 10,
      "outputs": [
        {
          "output_type": "stream",
          "name": "stdout",
          "text": [
            "137011925328192\n"
          ]
        }
      ]
    },
    {
      "cell_type": "code",
      "source": [],
      "metadata": {
        "id": "aNQQYhegoxfv"
      },
      "execution_count": 10,
      "outputs": []
    },
    {
      "cell_type": "markdown",
      "source": [
        "###Que-4=Discuss the different type of operator in python and provide example of how they are used.\n",
        "Ans-There are fallowing types of operators used in python are:-\n"
      ],
      "metadata": {
        "id": "EubLns59o2ND"
      }
    },
    {
      "cell_type": "markdown",
      "source": [
        "##Arithmetic Operator"
      ],
      "metadata": {
        "id": "3UfsToVhqV7T"
      }
    },
    {
      "cell_type": "code",
      "source": [
        "a =10\n",
        "b = 20\n",
        "print(a+b)"
      ],
      "metadata": {
        "colab": {
          "base_uri": "https://localhost:8080/"
        },
        "id": "LO2KMUZeqUwW",
        "outputId": "75df6ddc-7e88-4084-e539-b7d80d3a01e0"
      },
      "execution_count": 11,
      "outputs": [
        {
          "output_type": "stream",
          "name": "stdout",
          "text": [
            "30\n"
          ]
        }
      ]
    },
    {
      "cell_type": "code",
      "source": [
        "print(b-a)"
      ],
      "metadata": {
        "colab": {
          "base_uri": "https://localhost:8080/"
        },
        "id": "4BB4StL0rVXg",
        "outputId": "f6adeef6-05ab-4136-ceb6-d84641e1a6dd"
      },
      "execution_count": 12,
      "outputs": [
        {
          "output_type": "stream",
          "name": "stdout",
          "text": [
            "10\n"
          ]
        }
      ]
    },
    {
      "cell_type": "code",
      "source": [
        "print(a/b)"
      ],
      "metadata": {
        "colab": {
          "base_uri": "https://localhost:8080/"
        },
        "id": "Mvy3-1ZBrZla",
        "outputId": "ad661fe4-aae6-4981-d9d5-5b711af978cf"
      },
      "execution_count": 13,
      "outputs": [
        {
          "output_type": "stream",
          "name": "stdout",
          "text": [
            "0.5\n"
          ]
        }
      ]
    },
    {
      "cell_type": "code",
      "source": [
        "print(a%b)"
      ],
      "metadata": {
        "colab": {
          "base_uri": "https://localhost:8080/"
        },
        "id": "HRLCAAUcsAEg",
        "outputId": "a054cbe9-9358-49db-970c-1a584887bff9"
      },
      "execution_count": 14,
      "outputs": [
        {
          "output_type": "stream",
          "name": "stdout",
          "text": [
            "10\n"
          ]
        }
      ]
    },
    {
      "cell_type": "code",
      "source": [
        "print(a//b)"
      ],
      "metadata": {
        "colab": {
          "base_uri": "https://localhost:8080/"
        },
        "id": "D9MiPJX5sGlA",
        "outputId": "1491ff66-8625-4b7b-8dce-c97b5e27f72b"
      },
      "execution_count": 15,
      "outputs": [
        {
          "output_type": "stream",
          "name": "stdout",
          "text": [
            "0\n"
          ]
        }
      ]
    },
    {
      "cell_type": "code",
      "source": [
        "print(a*b)"
      ],
      "metadata": {
        "colab": {
          "base_uri": "https://localhost:8080/"
        },
        "id": "uis1WMVfsMsu",
        "outputId": "4a0cbf98-17b5-46f3-a544-c49e3d7387a9"
      },
      "execution_count": 16,
      "outputs": [
        {
          "output_type": "stream",
          "name": "stdout",
          "text": [
            "200\n"
          ]
        }
      ]
    },
    {
      "cell_type": "code",
      "source": [
        "print(a**b)"
      ],
      "metadata": {
        "colab": {
          "base_uri": "https://localhost:8080/"
        },
        "id": "Le-B6nJisSqe",
        "outputId": "a712db88-f26c-4c27-87bb-04fe68e3dd39"
      },
      "execution_count": 17,
      "outputs": [
        {
          "output_type": "stream",
          "name": "stdout",
          "text": [
            "100000000000000000000\n"
          ]
        }
      ]
    },
    {
      "cell_type": "code",
      "source": [],
      "metadata": {
        "id": "P_FA9nD3sYTQ"
      },
      "execution_count": 17,
      "outputs": []
    },
    {
      "cell_type": "markdown",
      "source": [
        "###Comparison Operator"
      ],
      "metadata": {
        "id": "fpqgq1sescCe"
      }
    },
    {
      "cell_type": "code",
      "source": [
        "if a== b:\n",
        "  print(\"a is equal to b\")\n",
        "else:\n",
        "  print(\"a is not equal to b\")"
      ],
      "metadata": {
        "colab": {
          "base_uri": "https://localhost:8080/"
        },
        "id": "fBeMObsus5N5",
        "outputId": "f2fde2e7-698a-48d3-cb60-796897f3dbb7"
      },
      "execution_count": 18,
      "outputs": [
        {
          "output_type": "stream",
          "name": "stdout",
          "text": [
            "a is not equal to b\n"
          ]
        }
      ]
    },
    {
      "cell_type": "code",
      "source": [
        "x = 5\n",
        "y = 5\n",
        "\n",
        "if x== y:\n",
        "  print(\"x is equal to y\")\n",
        "else:\n",
        "  print(\"x is not equal to y\")"
      ],
      "metadata": {
        "colab": {
          "base_uri": "https://localhost:8080/"
        },
        "id": "Y3gknu_uuDzK",
        "outputId": "e68c5f18-0073-473a-e4bf-e81b952245d0"
      },
      "execution_count": 19,
      "outputs": [
        {
          "output_type": "stream",
          "name": "stdout",
          "text": [
            "x is equal to y\n"
          ]
        }
      ]
    },
    {
      "cell_type": "code",
      "source": [
        "if a > b:\n",
        "  print (\"a is greater than b\")\n",
        "else:\n",
        "  print (\"a is not greater than b\")"
      ],
      "metadata": {
        "colab": {
          "base_uri": "https://localhost:8080/"
        },
        "id": "FlS3mreXvBrf",
        "outputId": "d3709aa3-d719-47d0-bd33-dd5be575556e"
      },
      "execution_count": 20,
      "outputs": [
        {
          "output_type": "stream",
          "name": "stdout",
          "text": [
            "a is not greater than b\n"
          ]
        }
      ]
    },
    {
      "cell_type": "code",
      "source": [
        "p = 20\n",
        "q = 10\n",
        "if p< q:\n",
        "  print(\"p is less than q\")\n",
        "else:\n",
        "  print(\"p is not less than q\")"
      ],
      "metadata": {
        "colab": {
          "base_uri": "https://localhost:8080/"
        },
        "id": "84hgAPnMxZYu",
        "outputId": "0b8a3d93-41ea-4b3f-bdba-05ebb8c9dee8"
      },
      "execution_count": 21,
      "outputs": [
        {
          "output_type": "stream",
          "name": "stdout",
          "text": [
            "p is not less than q\n"
          ]
        }
      ]
    },
    {
      "cell_type": "markdown",
      "source": [
        "### greater than or equal to"
      ],
      "metadata": {
        "id": "ZOXgX_oHyTJQ"
      }
    },
    {
      "cell_type": "code",
      "source": [
        "if p>= y:\n",
        "  print(\"p is greater than or equal to q\")\n",
        "else:\n",
        "  print(\"p is not greater than or equal to q\")"
      ],
      "metadata": {
        "colab": {
          "base_uri": "https://localhost:8080/"
        },
        "id": "ZUuxiY2Ox_UP",
        "outputId": "17ebb919-b0d6-4cf1-d581-45b9b1c73cc4"
      },
      "execution_count": 22,
      "outputs": [
        {
          "output_type": "stream",
          "name": "stdout",
          "text": [
            "p is greater than or equal to q\n"
          ]
        }
      ]
    },
    {
      "cell_type": "code",
      "source": [
        "if p<= y:\n",
        "  print(\"p is less than or equal to q\")\n",
        "else:\n",
        "  print(\"p is not less than or equal to q\")"
      ],
      "metadata": {
        "colab": {
          "base_uri": "https://localhost:8080/"
        },
        "id": "LnhUQgtbyJNx",
        "outputId": "1be08222-e39b-43c8-ba48-07e0ac32070f"
      },
      "execution_count": 23,
      "outputs": [
        {
          "output_type": "stream",
          "name": "stdout",
          "text": [
            "p is not less than or equal to q\n"
          ]
        }
      ]
    },
    {
      "cell_type": "markdown",
      "source": [
        "###Que-5= Explain the concept of type casting in python with example.\n",
        "Ans-- Type casting is the process of converting a variable from one data type to another. Python provides built-in functions to perform type casting:\n",
        "int(): Converts to integer\n",
        "float(): Converts to floating-point number\n",
        "str(): Converts to string\n",
        "bool(): Converts to boolean"
      ],
      "metadata": {
        "id": "Z0mSSwcL0UaX"
      }
    },
    {
      "cell_type": "code",
      "source": [
        "### integer to float\n",
        "x = 10\n",
        "y = float(x)\n",
        "print(x)"
      ],
      "metadata": {
        "colab": {
          "base_uri": "https://localhost:8080/"
        },
        "id": "_RexhvS50ALP",
        "outputId": "edeefaec-e882-4c58-a74a-c0b1f41459f9"
      },
      "execution_count": 24,
      "outputs": [
        {
          "output_type": "stream",
          "name": "stdout",
          "text": [
            "10\n"
          ]
        }
      ]
    },
    {
      "cell_type": "code",
      "source": [
        "# float to integer\n",
        "x = 5.4\n",
        "y = int(x)\n",
        "print(y)"
      ],
      "metadata": {
        "colab": {
          "base_uri": "https://localhost:8080/"
        },
        "id": "RCRInqjr1F5b",
        "outputId": "2aaa4ea5-5b06-4dd9-f667-ad1eaf1125c1"
      },
      "execution_count": 25,
      "outputs": [
        {
          "output_type": "stream",
          "name": "stdout",
          "text": [
            "5\n"
          ]
        }
      ]
    },
    {
      "cell_type": "code",
      "source": [
        "### Int to String\n",
        "x = 123\n",
        "y = str(x)\n",
        "print(y)"
      ],
      "metadata": {
        "colab": {
          "base_uri": "https://localhost:8080/"
        },
        "id": "wGXNTW1o2Q5v",
        "outputId": "d9cfc35f-9c22-4ba1-cccf-056191ce8cab"
      },
      "execution_count": 26,
      "outputs": [
        {
          "output_type": "stream",
          "name": "stdout",
          "text": [
            "123\n"
          ]
        }
      ]
    },
    {
      "cell_type": "code",
      "source": [
        "###Boolean to integer\n",
        "x = True\n",
        "y = int(x)\n",
        "print(y)"
      ],
      "metadata": {
        "colab": {
          "base_uri": "https://localhost:8080/"
        },
        "id": "8W0N053r3ELj",
        "outputId": "12b68ddc-d875-439e-aa7f-987cf0da99b6"
      },
      "execution_count": 27,
      "outputs": [
        {
          "output_type": "stream",
          "name": "stdout",
          "text": [
            "1\n"
          ]
        }
      ]
    },
    {
      "cell_type": "code",
      "source": [
        "x = False\n",
        "y = str(x)\n",
        "print(y)"
      ],
      "metadata": {
        "colab": {
          "base_uri": "https://localhost:8080/"
        },
        "id": "K97450M73gk9",
        "outputId": "ce8e7eb3-b013-4bcc-b921-80b3c0479a50"
      },
      "execution_count": 28,
      "outputs": [
        {
          "output_type": "stream",
          "name": "stdout",
          "text": [
            "False\n"
          ]
        }
      ]
    },
    {
      "cell_type": "markdown",
      "source": [
        "###Que 6 How do conditional statement work in python? Illustrate with examples.\n",
        "\n",
        "Ans= Conditional statements in Python allow you to execute different code blocks based on specific conditions. They provide a way to make your code more dynamic and responsive to different situations.\n",
        "\n",
        "The (if) Statement\n",
        "\n",
        "The most basic conditional statement is the if statement. It checks a condition and executes a block of code if the condition is true."
      ],
      "metadata": {
        "id": "uFULKWKA6NAJ"
      }
    },
    {
      "cell_type": "markdown",
      "source": [
        "## Nested Conditional Statements\n",
        "\n",
        "You can nest conditional statements within each other to create more complex logic"
      ],
      "metadata": {
        "id": "wzGv90KP9Z61"
      }
    },
    {
      "cell_type": "code",
      "source": [
        "is_raining = True\n",
        "is_sunny = False\n",
        "\n",
        "if is_raining:\n",
        "    if is_sunny:\n",
        "        print(\"It's raining and sunny!\")\n",
        "    else:\n",
        "        print(\"It's raining.\")\n",
        "else:\n",
        "    print(\"It's not raining.\")"
      ],
      "metadata": {
        "colab": {
          "base_uri": "https://localhost:8080/"
        },
        "id": "vcvxTR5Z3_RG",
        "outputId": "2df6c126-bc5e-4db3-ba58-b7e35a9ff561"
      },
      "execution_count": 29,
      "outputs": [
        {
          "output_type": "stream",
          "name": "stdout",
          "text": [
            "It's raining.\n"
          ]
        }
      ]
    },
    {
      "cell_type": "markdown",
      "source": [
        "### Que-7= Describe the different types of loops in python and their use case with example.\n",
        "\n",
        "Ans -Python provides three types of loops: for, while, and do-while (implemented using a while loop with a break statement).\n",
        "\n",
        "1. for Loop\n",
        "Use case: Iterating over a sequence of items (e.g., lists, tuples, strings, dictionaries).\n",
        "\n",
        "Syntax:"
      ],
      "metadata": {
        "id": "rYocUOm1AC4K"
      }
    },
    {
      "cell_type": "code",
      "source": [
        "fruits = [\"apple\", \"banana\", \"orange\"]\n",
        "for fruit in fruits:\n",
        "    print(fruit)"
      ],
      "metadata": {
        "colab": {
          "base_uri": "https://localhost:8080/"
        },
        "id": "h5BJAdTPA7KL",
        "outputId": "8b256d97-39fe-49b9-dcf7-417a6ca77b89"
      },
      "execution_count": 30,
      "outputs": [
        {
          "output_type": "stream",
          "name": "stdout",
          "text": [
            "apple\n",
            "banana\n",
            "orange\n"
          ]
        }
      ]
    },
    {
      "cell_type": "markdown",
      "source": [
        "2. while Loop\n",
        "Use case: Repeating a block of code as long as a condition remains true.\n",
        "\n",
        "Syntax:"
      ],
      "metadata": {
        "id": "fW6vGdvlBCqg"
      }
    },
    {
      "cell_type": "code",
      "source": [
        "count = 0\n",
        "while count < 5:\n",
        "    print(count)\n",
        "    count += 1"
      ],
      "metadata": {
        "colab": {
          "base_uri": "https://localhost:8080/"
        },
        "id": "YNoNWgMMBHQb",
        "outputId": "22862c40-77a0-4b9b-a109-2c059cf1bb16"
      },
      "execution_count": 31,
      "outputs": [
        {
          "output_type": "stream",
          "name": "stdout",
          "text": [
            "0\n",
            "1\n",
            "2\n",
            "3\n",
            "4\n"
          ]
        }
      ]
    },
    {
      "cell_type": "markdown",
      "source": [
        "3. do-while Loop (Implemented with while and break)\n",
        "Use case: Executing a block of code at least once, then repeating as long as a condition remains true.\n",
        "\n",
        "Syntax:"
      ],
      "metadata": {
        "id": "NHxAzD5iBNvP"
      }
    },
    {
      "cell_type": "code",
      "source": [
        "while True:\n",
        "    user_input = input(\"Enter a number (or 'quit' to exit): \")\n",
        "    if user_input == \"quit\":\n",
        "        break\n",
        "    print(int(user_input) ** 2)"
      ],
      "metadata": {
        "colab": {
          "base_uri": "https://localhost:8080/"
        },
        "id": "taMNMlrgBT7Z",
        "outputId": "94fe3f96-bbcb-4434-e22a-93cf0a557e8d"
      },
      "execution_count": null,
      "outputs": [
        {
          "output_type": "stream",
          "name": "stdout",
          "text": [
            "Enter a number (or 'quit' to exit): 75\n",
            "5625\n"
          ]
        }
      ]
    }
  ]
}